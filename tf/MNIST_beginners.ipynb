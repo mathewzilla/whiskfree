{
 "cells": [
  {
   "cell_type": "markdown",
   "metadata": {},
   "source": [
    "# Tensorflow MNIST beginners tutorial from scratch\n",
    "### 02.06.16. M.Evans"
   ]
  },
  {
   "cell_type": "code",
   "execution_count": 1,
   "metadata": {
    "collapsed": true
   },
   "outputs": [],
   "source": [
    "# Check tensorflow is installed\n",
    "import tensorflow as tf"
   ]
  },
  {
   "cell_type": "code",
   "execution_count": 2,
   "metadata": {
    "collapsed": false
   },
   "outputs": [
    {
     "name": "stdout",
     "output_type": "stream",
     "text": [
      "/home/mathew/miniconda/envs/tensorflow/lib/python3.4/site-packages/tensorflow\r\n"
     ]
    }
   ],
   "source": [
    "# Find out where it is\n",
    "! python -c 'import os; import inspect; import tensorflow; print(os.path.dirname(inspect.getfile(tensorflow)))'"
   ]
  },
  {
   "cell_type": "code",
   "execution_count": 3,
   "metadata": {
    "collapsed": false
   },
   "outputs": [
    {
     "name": "stdout",
     "output_type": "stream",
     "text": [
      "Successfully downloaded train-images-idx3-ubyte.gz 9912422 bytes.\n",
      "Successfully downloaded train-labels-idx1-ubyte.gz 28881 bytes.\n",
      "Successfully downloaded t10k-images-idx3-ubyte.gz 1648877 bytes.\n",
      "Successfully downloaded t10k-labels-idx1-ubyte.gz 4542 bytes.\n",
      "Extracting data/train-images-idx3-ubyte.gz\n",
      "Extracting data/train-labels-idx1-ubyte.gz\n",
      "Extracting data/t10k-images-idx3-ubyte.gz\n",
      "Extracting data/t10k-labels-idx1-ubyte.gz\n",
      "Initialized!\n",
      "Step 0 (epoch 0.00), 4.7 ms\n",
      "Minibatch loss: 12.054, learning rate: 0.010000\n",
      "Minibatch error: 90.6%\n",
      "Validation error: 84.6%\n",
      "Step 100 (epoch 0.12), 204.4 ms\n",
      "Minibatch loss: 3.289, learning rate: 0.010000\n",
      "Minibatch error: 6.2%\n",
      "Validation error: 7.0%\n",
      "Step 200 (epoch 0.23), 201.0 ms\n",
      "Minibatch loss: 3.427, learning rate: 0.010000\n",
      "Minibatch error: 10.9%\n",
      "Validation error: 3.6%\n",
      "Step 300 (epoch 0.35), 204.0 ms\n",
      "Minibatch loss: 3.175, learning rate: 0.010000\n",
      "Minibatch error: 9.4%\n",
      "Validation error: 3.2%\n",
      "Step 400 (epoch 0.47), 202.9 ms\n",
      "Minibatch loss: 3.228, learning rate: 0.010000\n",
      "Minibatch error: 7.8%\n",
      "Validation error: 2.5%\n",
      "Step 500 (epoch 0.58), 207.8 ms\n",
      "Minibatch loss: 3.282, learning rate: 0.010000\n",
      "Minibatch error: 9.4%\n",
      "Validation error: 2.8%\n",
      "Step 600 (epoch 0.70), 202.0 ms\n",
      "Minibatch loss: 3.150, learning rate: 0.010000\n",
      "Minibatch error: 4.7%\n",
      "Validation error: 2.5%\n",
      "Step 700 (epoch 0.81), 204.9 ms\n",
      "Minibatch loss: 3.031, learning rate: 0.010000\n",
      "Minibatch error: 3.1%\n",
      "Validation error: 2.3%\n",
      "Step 800 (epoch 0.93), 208.4 ms\n",
      "Minibatch loss: 3.093, learning rate: 0.010000\n",
      "Minibatch error: 6.2%\n",
      "Validation error: 2.1%\n",
      "Step 900 (epoch 1.05), 207.2 ms\n",
      "Minibatch loss: 2.918, learning rate: 0.009500\n",
      "Minibatch error: 3.1%\n",
      "Validation error: 1.7%\n",
      "Step 1000 (epoch 1.16), 204.4 ms\n",
      "Minibatch loss: 2.848, learning rate: 0.009500\n",
      "Minibatch error: 0.0%\n",
      "Validation error: 1.7%\n",
      "Step 1100 (epoch 1.28), 204.2 ms\n",
      "Minibatch loss: 2.835, learning rate: 0.009500\n",
      "Minibatch error: 1.6%\n",
      "Validation error: 1.4%\n",
      "Step 1200 (epoch 1.40), 204.6 ms\n",
      "Minibatch loss: 2.923, learning rate: 0.009500\n",
      "Minibatch error: 6.2%\n",
      "Validation error: 1.5%\n",
      "Step 1300 (epoch 1.51), 202.1 ms\n",
      "Minibatch loss: 2.771, learning rate: 0.009500\n",
      "Minibatch error: 1.6%\n",
      "Validation error: 1.8%\n",
      "Step 1400 (epoch 1.63), 202.5 ms\n",
      "Minibatch loss: 2.808, learning rate: 0.009500\n",
      "Minibatch error: 4.7%\n",
      "Validation error: 1.4%\n",
      "Step 1500 (epoch 1.75), 202.2 ms\n",
      "Minibatch loss: 2.846, learning rate: 0.009500\n",
      "Minibatch error: 6.2%\n",
      "Validation error: 1.3%\n",
      "Step 1600 (epoch 1.86), 203.4 ms\n",
      "Minibatch loss: 2.702, learning rate: 0.009500\n",
      "Minibatch error: 1.6%\n",
      "Validation error: 1.3%\n",
      "Step 1700 (epoch 1.98), 201.3 ms\n",
      "Minibatch loss: 2.653, learning rate: 0.009500\n",
      "Minibatch error: 0.0%\n",
      "Validation error: 1.4%\n",
      "Step 1800 (epoch 2.09), 201.7 ms\n",
      "Minibatch loss: 2.661, learning rate: 0.009025\n",
      "Minibatch error: 1.6%\n",
      "Validation error: 1.5%\n",
      "Step 1900 (epoch 2.21), 200.2 ms\n",
      "Minibatch loss: 2.646, learning rate: 0.009025\n",
      "Minibatch error: 1.6%\n",
      "Validation error: 1.1%\n",
      "Step 2000 (epoch 2.33), 202.7 ms\n",
      "Minibatch loss: 2.657, learning rate: 0.009025\n",
      "Minibatch error: 3.1%\n",
      "Validation error: 1.3%\n",
      "Step 2100 (epoch 2.44), 203.1 ms\n",
      "Minibatch loss: 2.575, learning rate: 0.009025\n",
      "Minibatch error: 1.6%\n",
      "Validation error: 1.1%\n",
      "Step 2200 (epoch 2.56), 201.3 ms\n",
      "Minibatch loss: 2.574, learning rate: 0.009025\n",
      "Minibatch error: 0.0%\n",
      "Validation error: 1.2%\n",
      "Step 2300 (epoch 2.68), 204.3 ms\n",
      "Minibatch loss: 2.575, learning rate: 0.009025\n",
      "Minibatch error: 1.6%\n",
      "Validation error: 1.1%\n",
      "Step 2400 (epoch 2.79), 206.4 ms\n",
      "Minibatch loss: 2.499, learning rate: 0.009025\n",
      "Minibatch error: 0.0%\n",
      "Validation error: 1.2%\n",
      "Step 2500 (epoch 2.91), 206.0 ms\n",
      "Minibatch loss: 2.477, learning rate: 0.009025\n",
      "Minibatch error: 0.0%\n",
      "Validation error: 1.2%\n",
      "Step 2600 (epoch 3.03), 206.1 ms\n",
      "Minibatch loss: 2.461, learning rate: 0.008574\n",
      "Minibatch error: 0.0%\n",
      "Validation error: 1.2%\n",
      "Step 2700 (epoch 3.14), 207.4 ms\n",
      "Minibatch loss: 2.462, learning rate: 0.008574\n",
      "Minibatch error: 1.6%\n",
      "Validation error: 1.0%\n",
      "Step 2800 (epoch 3.26), 205.1 ms\n",
      "Minibatch loss: 2.425, learning rate: 0.008574\n",
      "Minibatch error: 1.6%\n",
      "Validation error: 1.2%\n",
      "Step 2900 (epoch 3.37), 206.9 ms\n",
      "Minibatch loss: 2.486, learning rate: 0.008574\n",
      "Minibatch error: 3.1%\n",
      "Validation error: 1.2%\n",
      "Step 3000 (epoch 3.49), 208.6 ms\n",
      "Minibatch loss: 2.400, learning rate: 0.008574\n",
      "Minibatch error: 1.6%\n",
      "Validation error: 1.0%\n",
      "Step 3100 (epoch 3.61), 203.8 ms\n",
      "Minibatch loss: 2.396, learning rate: 0.008574\n",
      "Minibatch error: 3.1%\n",
      "Validation error: 0.9%\n",
      "Step 3200 (epoch 3.72), 204.0 ms\n",
      "Minibatch loss: 2.341, learning rate: 0.008574\n",
      "Minibatch error: 0.0%\n",
      "Validation error: 1.2%\n",
      "Step 3300 (epoch 3.84), 202.3 ms\n",
      "Minibatch loss: 2.308, learning rate: 0.008574\n",
      "Minibatch error: 0.0%\n",
      "Validation error: 1.3%\n",
      "Step 3400 (epoch 3.96), 202.5 ms\n",
      "Minibatch loss: 2.295, learning rate: 0.008574\n",
      "Minibatch error: 0.0%\n",
      "Validation error: 1.1%\n",
      "Step 3500 (epoch 4.07), 203.4 ms\n",
      "Minibatch loss: 2.274, learning rate: 0.008145\n",
      "Minibatch error: 0.0%\n",
      "Validation error: 1.0%\n",
      "Step 3600 (epoch 4.19), 201.3 ms\n",
      "Minibatch loss: 2.259, learning rate: 0.008145\n",
      "Minibatch error: 0.0%\n",
      "Validation error: 1.0%\n",
      "Step 3700 (epoch 4.31), 203.3 ms\n",
      "Minibatch loss: 2.263, learning rate: 0.008145\n",
      "Minibatch error: 3.1%\n",
      "Validation error: 1.0%\n",
      "Step 3800 (epoch 4.42), 202.5 ms\n",
      "Minibatch loss: 2.244, learning rate: 0.008145\n",
      "Minibatch error: 1.6%\n",
      "Validation error: 0.9%\n",
      "Step 3900 (epoch 4.54), 204.9 ms\n",
      "Minibatch loss: 2.277, learning rate: 0.008145\n",
      "Minibatch error: 3.1%\n",
      "Validation error: 1.0%\n",
      "Step 4000 (epoch 4.65), 204.4 ms\n",
      "Minibatch loss: 2.213, learning rate: 0.008145\n",
      "Minibatch error: 1.6%\n",
      "Validation error: 1.0%\n",
      "Step 4100 (epoch 4.77), 205.1 ms\n",
      "Minibatch loss: 2.182, learning rate: 0.008145\n",
      "Minibatch error: 1.6%\n",
      "Validation error: 0.9%\n",
      "Step 4200 (epoch 4.89), 204.3 ms\n",
      "Minibatch loss: 2.238, learning rate: 0.008145\n",
      "Minibatch error: 1.6%\n",
      "Validation error: 1.0%\n",
      "Step 4300 (epoch 5.00), 202.8 ms\n",
      "Minibatch loss: 2.194, learning rate: 0.007738\n",
      "Minibatch error: 1.6%\n",
      "Validation error: 0.9%\n",
      "Step 4400 (epoch 5.12), 203.6 ms\n",
      "Minibatch loss: 2.154, learning rate: 0.007738\n",
      "Minibatch error: 1.6%\n",
      "Validation error: 1.0%\n",
      "Step 4500 (epoch 5.24), 202.3 ms\n",
      "Minibatch loss: 2.171, learning rate: 0.007738\n",
      "Minibatch error: 1.6%\n",
      "Validation error: 0.9%\n",
      "Step 4600 (epoch 5.35), 203.7 ms\n",
      "Minibatch loss: 2.115, learning rate: 0.007738\n",
      "Minibatch error: 1.6%\n",
      "Validation error: 0.9%\n",
      "Step 4700 (epoch 5.47), 204.8 ms\n",
      "Minibatch loss: 2.103, learning rate: 0.007738\n",
      "Minibatch error: 1.6%\n",
      "Validation error: 0.9%\n",
      "Step 4800 (epoch 5.59), 201.8 ms\n",
      "Minibatch loss: 2.062, learning rate: 0.007738\n",
      "Minibatch error: 0.0%\n",
      "Validation error: 1.1%\n",
      "Step 4900 (epoch 5.70), 203.9 ms\n",
      "Minibatch loss: 2.046, learning rate: 0.007738\n",
      "Minibatch error: 0.0%\n",
      "Validation error: 0.9%\n",
      "Step 5000 (epoch 5.82), 202.9 ms\n",
      "Minibatch loss: 2.125, learning rate: 0.007738\n",
      "Minibatch error: 3.1%\n",
      "Validation error: 1.0%\n",
      "Step 5100 (epoch 5.93), 203.6 ms\n",
      "Minibatch loss: 2.012, learning rate: 0.007738\n",
      "Minibatch error: 1.6%\n",
      "Validation error: 1.0%\n",
      "Step 5200 (epoch 6.05), 203.4 ms\n",
      "Minibatch loss: 2.059, learning rate: 0.007351\n",
      "Minibatch error: 3.1%\n",
      "Validation error: 0.9%\n",
      "Step 5300 (epoch 6.17), 205.3 ms\n",
      "Minibatch loss: 1.986, learning rate: 0.007351\n",
      "Minibatch error: 0.0%\n",
      "Validation error: 0.9%\n",
      "Step 5400 (epoch 6.28), 204.3 ms\n",
      "Minibatch loss: 1.955, learning rate: 0.007351\n",
      "Minibatch error: 0.0%\n",
      "Validation error: 0.8%\n",
      "Step 5500 (epoch 6.40), 203.6 ms\n",
      "Minibatch loss: 1.964, learning rate: 0.007351\n",
      "Minibatch error: 1.6%\n",
      "Validation error: 0.9%\n",
      "Step 5600 (epoch 6.52), 203.8 ms\n",
      "Minibatch loss: 1.928, learning rate: 0.007351\n",
      "Minibatch error: 0.0%\n",
      "Validation error: 0.7%\n",
      "Step 5700 (epoch 6.63), 202.9 ms\n",
      "Minibatch loss: 1.913, learning rate: 0.007351\n",
      "Minibatch error: 0.0%\n",
      "Validation error: 0.9%\n",
      "Step 5800 (epoch 6.75), 203.2 ms\n",
      "Minibatch loss: 1.899, learning rate: 0.007351\n",
      "Minibatch error: 0.0%\n",
      "Validation error: 0.9%\n",
      "Step 5900 (epoch 6.87), 202.7 ms\n",
      "Minibatch loss: 1.892, learning rate: 0.007351\n",
      "Minibatch error: 0.0%\n",
      "Validation error: 0.8%\n",
      "Step 6000 (epoch 6.98), 200.7 ms\n",
      "Minibatch loss: 1.884, learning rate: 0.007351\n",
      "Minibatch error: 0.0%\n",
      "Validation error: 0.9%\n",
      "Step 6100 (epoch 7.10), 201.4 ms\n",
      "Minibatch loss: 1.858, learning rate: 0.006983\n",
      "Minibatch error: 0.0%\n",
      "Validation error: 1.0%\n",
      "Step 6200 (epoch 7.21), 201.5 ms\n",
      "Minibatch loss: 1.842, learning rate: 0.006983\n",
      "Minibatch error: 0.0%\n",
      "Validation error: 0.7%\n",
      "Step 6300 (epoch 7.33), 204.8 ms\n",
      "Minibatch loss: 1.836, learning rate: 0.006983\n",
      "Minibatch error: 0.0%\n",
      "Validation error: 0.8%\n",
      "Step 6400 (epoch 7.45), 203.5 ms\n",
      "Minibatch loss: 1.915, learning rate: 0.006983\n",
      "Minibatch error: 3.1%\n",
      "Validation error: 0.8%\n",
      "Step 6500 (epoch 7.56), 201.6 ms\n",
      "Minibatch loss: 1.807, learning rate: 0.006983\n",
      "Minibatch error: 0.0%\n",
      "Validation error: 0.9%\n",
      "Step 6600 (epoch 7.68), 202.8 ms\n",
      "Minibatch loss: 1.829, learning rate: 0.006983\n",
      "Minibatch error: 1.6%\n",
      "Validation error: 0.9%\n",
      "Step 6700 (epoch 7.80), 202.8 ms\n",
      "Minibatch loss: 1.784, learning rate: 0.006983\n",
      "Minibatch error: 0.0%\n",
      "Validation error: 0.9%\n",
      "Step 6800 (epoch 7.91), 201.9 ms\n",
      "Minibatch loss: 1.772, learning rate: 0.006983\n",
      "Minibatch error: 0.0%\n",
      "Validation error: 0.8%\n",
      "Step 6900 (epoch 8.03), 202.5 ms\n",
      "Minibatch loss: 1.760, learning rate: 0.006634\n",
      "Minibatch error: 0.0%\n",
      "Validation error: 1.0%\n",
      "Step 7000 (epoch 8.15), 203.1 ms\n",
      "Minibatch loss: 1.786, learning rate: 0.006634\n",
      "Minibatch error: 1.6%\n",
      "Validation error: 0.8%\n",
      "Step 7100 (epoch 8.26), 205.7 ms\n",
      "Minibatch loss: 1.736, learning rate: 0.006634\n",
      "Minibatch error: 0.0%\n",
      "Validation error: 0.9%\n",
      "Step 7200 (epoch 8.38), 202.4 ms\n",
      "Minibatch loss: 1.740, learning rate: 0.006634\n",
      "Minibatch error: 0.0%\n",
      "Validation error: 0.9%\n",
      "Step 7300 (epoch 8.49), 202.5 ms\n",
      "Minibatch loss: 1.719, learning rate: 0.006634\n",
      "Minibatch error: 0.0%\n",
      "Validation error: 0.8%\n",
      "Step 7400 (epoch 8.61), 201.3 ms\n",
      "Minibatch loss: 1.700, learning rate: 0.006634\n",
      "Minibatch error: 0.0%\n",
      "Validation error: 0.8%\n",
      "Step 7500 (epoch 8.73), 203.9 ms\n",
      "Minibatch loss: 1.697, learning rate: 0.006634\n",
      "Minibatch error: 0.0%\n",
      "Validation error: 0.8%\n",
      "Step 7600 (epoch 8.84), 202.8 ms\n",
      "Minibatch loss: 1.823, learning rate: 0.006634\n",
      "Minibatch error: 1.6%\n",
      "Validation error: 0.9%\n",
      "Step 7700 (epoch 8.96), 206.3 ms\n",
      "Minibatch loss: 1.667, learning rate: 0.006634\n",
      "Minibatch error: 0.0%\n",
      "Validation error: 1.0%\n",
      "Step 7800 (epoch 9.08), 205.2 ms\n",
      "Minibatch loss: 1.662, learning rate: 0.006302\n",
      "Minibatch error: 0.0%\n",
      "Validation error: 0.9%\n",
      "Step 7900 (epoch 9.19), 205.1 ms\n",
      "Minibatch loss: 1.651, learning rate: 0.006302\n",
      "Minibatch error: 0.0%\n",
      "Validation error: 0.9%\n",
      "Step 8000 (epoch 9.31), 203.4 ms\n",
      "Minibatch loss: 1.682, learning rate: 0.006302\n",
      "Minibatch error: 3.1%\n",
      "Validation error: 0.8%\n",
      "Step 8100 (epoch 9.43), 203.8 ms\n",
      "Minibatch loss: 1.626, learning rate: 0.006302\n",
      "Minibatch error: 0.0%\n",
      "Validation error: 0.9%\n",
      "Step 8200 (epoch 9.54), 203.6 ms\n",
      "Minibatch loss: 1.632, learning rate: 0.006302\n",
      "Minibatch error: 0.0%\n",
      "Validation error: 0.8%\n",
      "Step 8300 (epoch 9.66), 205.4 ms\n",
      "Minibatch loss: 1.609, learning rate: 0.006302\n",
      "Minibatch error: 0.0%\n",
      "Validation error: 0.8%\n",
      "Step 8400 (epoch 9.77), 203.8 ms\n",
      "Minibatch loss: 1.595, learning rate: 0.006302\n",
      "Minibatch error: 0.0%\n",
      "Validation error: 0.8%\n",
      "Step 8500 (epoch 9.89), 203.8 ms\n",
      "Minibatch loss: 1.617, learning rate: 0.006302\n",
      "Minibatch error: 1.6%\n",
      "Validation error: 0.8%\n",
      "Test error: 0.8%\n"
     ]
    }
   ],
   "source": [
    "# Check the demo works \n",
    "! python -m tensorflow.models.image.mnist.convolutional"
   ]
  },
  {
   "cell_type": "code",
   "execution_count": 5,
   "metadata": {
    "collapsed": false
   },
   "outputs": [
    {
     "name": "stdout",
     "output_type": "stream",
     "text": [
      "Collecting matplotlib\n",
      "  Downloading matplotlib-1.5.1.tar.gz (54.0MB)\n",
      "\u001b[K    100% |████████████████████████████████| 54.0MB 18kB/s \n",
      "\u001b[?25hRequirement already satisfied (use --upgrade to upgrade): numpy>=1.6 in /home/mathew/miniconda/envs/tensorflow/lib/python3.4/site-packages (from matplotlib)\n",
      "Collecting python-dateutil (from matplotlib)\n",
      "  Downloading python_dateutil-2.5.3-py2.py3-none-any.whl (201kB)\n",
      "\u001b[K    100% |████████████████████████████████| 204kB 2.5MB/s \n",
      "\u001b[?25hCollecting pytz (from matplotlib)\n",
      "  Downloading pytz-2016.4-py2.py3-none-any.whl (480kB)\n",
      "\u001b[K    100% |████████████████████████████████| 481kB 1.8MB/s \n",
      "\u001b[?25hCollecting cycler (from matplotlib)\n",
      "  Downloading cycler-0.10.0-py2.py3-none-any.whl\n",
      "Collecting pyparsing!=2.0.0,!=2.0.4,>=1.5.6 (from matplotlib)\n",
      "  Downloading pyparsing-2.1.4-py2.py3-none-any.whl (40kB)\n",
      "\u001b[K    100% |████████████████████████████████| 40kB 6.4MB/s \n",
      "\u001b[?25hRequirement already satisfied (use --upgrade to upgrade): six>=1.5 in /home/mathew/miniconda/envs/tensorflow/lib/python3.4/site-packages (from python-dateutil->matplotlib)\n",
      "Building wheels for collected packages: matplotlib\n",
      "  Running setup.py bdist_wheel for matplotlib ... \u001b[?25l-\b \b\\\b \b|\b \b/\b \b-\b \b\\\b \b|\b \b/\b \b-\b \b\\\b \b|\b \b/\b \b-\b \b\\\b \b|\b \b/\b \b-\b \b\\\b \b|\b \b/\b \b-\b \b\\\b \b|\b \b/\b \b-\b \b\\\b \b|\b \b/\b \b-\b \b\\\b \b|\b \b/\b \b-\b \b\\\b \b|\b \b/\b \b-\b \b\\\b \b|\b \b/\b \b-\b \b\\\b \b|\b \b/\b \b-\b \b\\\b \b|\b \b/\b \b-\b \b\\\b \b|\b \b/\b \b-\b \b\\\b \b|\b \b/\b \b-\b \b\\\b \b|\b \b/\b \b-\b \b\\\b \b|\b \b/\b \b-\b \b\\\b \b|\b \b/\b \b-\b \b\\\b \b|\b \b/\b \b-\b \b\\\b \b|\b \b/\b \b-\b \b\\\b \b|\b \b/\b \b-\b \b\\\b \b|\b \b/\b \b-\b \b\\\b \b|\b \b/\b \b-\b \b\\\b \b|\b \bdone\n",
      "\u001b[?25h  Stored in directory: /home/mathew/.cache/pip/wheels/d8/38/3c/a388e11fd09f9b23f5e4cd74594197394d9fd65f91f64c4aa7\n",
      "Successfully built matplotlib\n",
      "Installing collected packages: python-dateutil, pytz, cycler, pyparsing, matplotlib\n",
      "Successfully installed cycler-0.10.0 matplotlib-1.5.1 pyparsing-2.1.4 python-dateutil-2.5.3 pytz-2016.4\n"
     ]
    }
   ],
   "source": [
    "! pip install matplotlib"
   ]
  },
  {
   "cell_type": "markdown",
   "metadata": {},
   "source": [
    "## Hacking starts here"
   ]
  },
  {
   "cell_type": "code",
   "execution_count": 20,
   "metadata": {
    "collapsed": false
   },
   "outputs": [],
   "source": [
    "# Tensorflow example from first page of docs\n",
    "import tensorflow as tf\n",
    "import numpy as np\n",
    "import matplotlib.pyplot as plt\n",
    "%matplotlib inline\n",
    "\n",
    "from IPython import display"
   ]
  },
  {
   "cell_type": "code",
   "execution_count": 7,
   "metadata": {
    "collapsed": false
   },
   "outputs": [
    {
     "data": {
      "text/plain": [
       "<matplotlib.collections.PathCollection at 0x7f6ae9a56cf8>"
      ]
     },
     "execution_count": 7,
     "metadata": {},
     "output_type": "execute_result"
    },
    {
     "data": {
      "image/png": "[encoded data removed]",
      "text/plain": [
       "<matplotlib.figure.Figure at 0x7f6ae9af4128>"
      ]
     },
     "metadata": {},
     "output_type": "display_data"
    }
   ],
   "source": [
    "# Create 100 phony x, y data points in NumPy, y = x * 0.1 + 0.3\n",
    "x_data = np.random.rand(100).astype(np.float32)\n",
    "y_data = x_data * 0.1 + 0.3\n",
    "\n",
    "# Plot the data\n",
    "plt.scatter(x_data,y_data)"
   ]
  },
  {
   "cell_type": "code",
   "execution_count": 24,
   "metadata": {
    "collapsed": false
   },
   "outputs": [
    {
     "data": {
      "image/png": "[encoded data removed]",
      "text/plain": [
       "<matplotlib.figure.Figure at 0x7f6a9c543710>"
      ]
     },
     "metadata": {},
     "output_type": "display_data"
    },
    {
     "name": "stdout",
     "output_type": "stream",
     "text": [
      "200 [ 0.1000001] [ 0.29999995]\n"
     ]
    },
    {
     "data": {
      "image/png": "[encoded data removed]",
      "text/plain": [
       "<matplotlib.figure.Figure at 0x7f6a9c543710>"
      ]
     },
     "metadata": {},
     "output_type": "display_data"
    }
   ],
   "source": [
    "# Try to find values for W and b that compute y_data = W * x_data + b\n",
    "# (We know that W should be 0.1 and b 0.3, but Tensorflow will\n",
    "# figure that out for us.)\n",
    "\n",
    "# Variables to be computed (changed) must be initialised within tensorflow\n",
    "W = tf.Variable(tf.random_uniform([1], -1.0, 1.0))\n",
    "b = tf.Variable(tf.zeros([1]))\n",
    "y = W * x_data + b\n",
    "\n",
    "# Then specify what you will do with some of your variables in what tf calls a 'data flow graph' e.g.\n",
    "\n",
    "# Minimize the mean squared errors.\n",
    "loss = tf.reduce_mean(tf.square(y - y_data))\n",
    "optimizer = tf.train.GradientDescentOptimizer(0.5)\n",
    "train = optimizer.minimize(loss)\n",
    "\n",
    "# Before starting, initialize the variables.  We will 'run' this first.\n",
    "init = tf.initialize_all_variables()\n",
    "\n",
    "# Launch the graph by starting a tf session, then running 'init'\n",
    "sess = tf.Session()\n",
    "sess.run(init)\n",
    "\n",
    "# Fit the line with tensorflow.\n",
    "for step in range(201): #no xrange in python 3\n",
    "    sess.run(train)\n",
    "    new_y = sess.run(W) * x_data + sess.run(b)\n",
    "    \n",
    "    if step % 20 == 0:\n",
    "        # Plot the data and the result\n",
    "        plt.scatter(x_data,y_data)\n",
    "        plt.plot(x_data,new_y,'r')\n",
    "        display.clear_output(wait=True)\n",
    "        display.display(plt.gcf())\n",
    "        print(step, sess.run(W), sess.run(b))\n",
    "# Learns best fit is W: [0.1], b: [0.3]"
   ]
  },
  {
   "cell_type": "code",
   "execution_count": 25,
   "metadata": {
    "collapsed": false
   },
   "outputs": [
    {
     "data": {
      "text/plain": [
       "[<matplotlib.lines.Line2D at 0x7f6a9c54d9b0>]"
      ]
     },
     "execution_count": 25,
     "metadata": {},
     "output_type": "execute_result"
    },
    {
     "data": {
      "image/png": "[encoded data removed]",
      "text/plain": [
       "<matplotlib.figure.Figure at 0x7f6a9c5ec6a0>"
      ]
     },
     "metadata": {},
     "output_type": "display_data"
    }
   ],
   "source": [
    "# Get result from tf\n",
    "\n",
    "new_y = sess.run(W) * x_data + sess.run(b)\n",
    "\n",
    "# Plot the data and the result\n",
    "plt.scatter(x_data,y_data)\n",
    "plt.plot(x_data,new_y,'r')"
   ]
  },
  {
   "cell_type": "markdown",
   "metadata": {},
   "source": [
    "## Now run the MNIST code"
   ]
  },
  {
   "cell_type": "code",
   "execution_count": 26,
   "metadata": {
    "collapsed": false
   },
   "outputs": [
    {
     "name": "stdout",
     "output_type": "stream",
     "text": [
      "Successfully downloaded train-images-idx3-ubyte.gz 9912422 bytes.\n",
      "Extracting MNIST_data/train-images-idx3-ubyte.gz\n",
      "Successfully downloaded train-labels-idx1-ubyte.gz 28881 bytes.\n",
      "Extracting MNIST_data/train-labels-idx1-ubyte.gz\n",
      "Successfully downloaded t10k-images-idx3-ubyte.gz 1648877 bytes.\n",
      "Extracting MNIST_data/t10k-images-idx3-ubyte.gz\n",
      "Successfully downloaded t10k-labels-idx1-ubyte.gz 4542 bytes.\n",
      "Extracting MNIST_data/t10k-labels-idx1-ubyte.gz\n"
     ]
    }
   ],
   "source": [
    "from tensorflow.examples.tutorials.mnist import input_data\n",
    "mnist = input_data.read_data_sets(\"MNIST_data/\",one_hot=True)"
   ]
  },
  {
   "cell_type": "code",
   "execution_count": 32,
   "metadata": {
    "collapsed": false
   },
   "outputs": [
    {
     "data": {
      "text/plain": [
       "(55000, 784)"
      ]
     },
     "execution_count": 32,
     "metadata": {},
     "output_type": "execute_result"
    }
   ],
   "source": [
    "mnist.train.images.shape"
   ]
  },
  {
   "cell_type": "code",
   "execution_count": 42,
   "metadata": {
    "collapsed": false
   },
   "outputs": [
    {
     "data": {
      "text/plain": [
       "<matplotlib.image.AxesImage at 0x7f6aac05acf8>"
      ]
     },
     "execution_count": 42,
     "metadata": {},
     "output_type": "execute_result"
    },
    {
     "data": {
      "image/png": "[encoded data removed]",
      "text/plain": [
       "<matplotlib.figure.Figure at 0x7f6aac09b908>"
      ]
     },
     "metadata": {},
     "output_type": "display_data"
    }
   ],
   "source": [
    "# Imageplot of one of the images\n",
    "plt.imshow(mnist.train.images[1,:].reshape((28,28)))"
   ]
  },
  {
   "cell_type": "code",
   "execution_count": 39,
   "metadata": {
    "collapsed": false
   },
   "outputs": [
    {
     "data": {
      "text/plain": [
       "(28, 28)"
      ]
     },
     "execution_count": 39,
     "metadata": {},
     "output_type": "execute_result"
    }
   ],
   "source": [
    "im = mnist.train.images[0,:].reshape((28,28))\n",
    "im.shape"
   ]
  },
  {
   "cell_type": "code",
   "execution_count": 51,
   "metadata": {
    "collapsed": false
   },
   "outputs": [
    {
     "data": {
      "text/plain": [
       "<matplotlib.image.AxesImage at 0x7f6a9c5d3ba8>"
      ]
     },
     "execution_count": 51,
     "metadata": {},
     "output_type": "execute_result"
    },
    {
     "data": {
      "image/png": "[encoded data removed]",
      "text/plain": [
       "<matplotlib.figure.Figure at 0x7f6a9c5d3e10>"
      ]
     },
     "metadata": {},
     "output_type": "display_data"
    }
   ],
   "source": [
    "# Image of some labels\n",
    "fig, ax = plt.subplots(figsize = (20,1))\n",
    "plt.imshow(mnist.train.labels[0:100,:].T,interpolation = 'none')"
   ]
  },
  {
   "cell_type": "code",
   "execution_count": 52,
   "metadata": {
    "collapsed": true
   },
   "outputs": [],
   "source": [
    "# Placeholder array. None means it can be any number of 784 parameter inputs\n",
    "x = tf.placeholder(tf.float32,[None,784])"
   ]
  },
  {
   "cell_type": "code",
   "execution_count": 53,
   "metadata": {
    "collapsed": true
   },
   "outputs": [],
   "source": [
    "# W and b are model variables to be fit by the model\n",
    "W = tf.Variable(tf.zeros([784,10]))\n",
    "b = tf.Variable(tf.zeros([10]))"
   ]
  },
  {
   "cell_type": "code",
   "execution_count": 54,
   "metadata": {
    "collapsed": true
   },
   "outputs": [],
   "source": [
    "# This is the softmax nn model\n",
    "y = tf.nn.softmax(tf.matmul(x,W) + b)"
   ]
  },
  {
   "cell_type": "code",
   "execution_count": 55,
   "metadata": {
    "collapsed": true
   },
   "outputs": [],
   "source": [
    "# Placeholder for correct answers (test labels)\n",
    "y_ = tf.placeholder(tf.float32,[None,10])"
   ]
  },
  {
   "cell_type": "code",
   "execution_count": 57,
   "metadata": {
    "collapsed": false
   },
   "outputs": [],
   "source": [
    "# Cross entropy loss to assess model performance\n",
    "# i.e. batch mean of negative sum of log(prediction) * labels\n",
    "cross_entropy = tf.reduce_mean(-tf.reduce_sum(y_ * tf.log(y), reduction_indices=[1]))"
   ]
  },
  {
   "cell_type": "code",
   "execution_count": 58,
   "metadata": {
    "collapsed": true
   },
   "outputs": [],
   "source": [
    "# Implement cross entropy loss with gradient descent on every training step\n",
    "train_step = tf.train.GradientDescentOptimizer(0.5).minimize(cross_entropy)"
   ]
  },
  {
   "cell_type": "code",
   "execution_count": 60,
   "metadata": {
    "collapsed": false
   },
   "outputs": [],
   "source": [
    "# initialise variables in tf\n",
    "init = tf.initialize_all_variables()"
   ]
  },
  {
   "cell_type": "code",
   "execution_count": 62,
   "metadata": {
    "collapsed": true
   },
   "outputs": [],
   "source": [
    "# Start tf session\n",
    "sess = tf.Session()\n",
    "sess.run(init)"
   ]
  },
  {
   "cell_type": "code",
   "execution_count": 64,
   "metadata": {
    "collapsed": false
   },
   "outputs": [],
   "source": [
    "# Run a training loop\n",
    "for i in range(1000):\n",
    "    batch_xs, batch_ys = mnist.train.next_batch(100)\n",
    "    sess.run(train_step,feed_dict={x: batch_xs, y_: batch_ys})"
   ]
  },
  {
   "cell_type": "code",
   "execution_count": 65,
   "metadata": {
    "collapsed": true
   },
   "outputs": [],
   "source": [
    "# Evaluate model performance\n",
    "correct_prediction = tf.equal(tf.argmax(y,1),tf.argmax(y_,1))"
   ]
  },
  {
   "cell_type": "code",
   "execution_count": 68,
   "metadata": {
    "collapsed": false
   },
   "outputs": [],
   "source": [
    "# Convert boolean correct_prediction array into numbers, then compute an average accuracy\n",
    "accuracy = tf.reduce_mean(tf.cast(correct_prediction,tf.float32))"
   ]
  },
  {
   "cell_type": "code",
   "execution_count": 70,
   "metadata": {
    "collapsed": false
   },
   "outputs": [
    {
     "name": "stdout",
     "output_type": "stream",
     "text": [
      "0.916\n"
     ]
    }
   ],
   "source": [
    "# Print output of calculation, which involves a sess.run()\n",
    "print(sess.run(accuracy,feed_dict={x: mnist.test.images,y_:mnist.test.labels}))"
   ]
  },
  {
   "cell_type": "code",
   "execution_count": null,
   "metadata": {
    "collapsed": true
   },
   "outputs": [],
   "source": []
  },
  {
   "cell_type": "code",
   "execution_count": null,
   "metadata": {
    "collapsed": true
   },
   "outputs": [],
   "source": []
  }
 ],
 "metadata": {
  "kernelspec": {
   "display_name": "Python 3",
   "language": "python",
   "name": "python3"
  },
  "language_info": {
   "codemirror_mode": {
    "name": "ipython",
    "version": 3
   },
   "file_extension": ".py",
   "mimetype": "text/x-python",
   "name": "python",
   "nbconvert_exporter": "python",
   "pygments_lexer": "ipython3",
   "version": "3.4.4"
  }
 },
 "nbformat": 4,
 "nbformat_minor": 0
}
