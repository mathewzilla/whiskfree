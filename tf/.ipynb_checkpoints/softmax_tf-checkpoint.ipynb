{
 "cells": [
  {
   "cell_type": "markdown",
   "metadata": {},
   "source": [
    "# Logistic regression of mouse behaviour data\n",
    "## Using softmax in tensorflow\n",
    "\n",
    "#### M.Evans 02.06.16"
   ]
  },
  {
   "cell_type": "code",
   "execution_count": null,
   "metadata": {
    "collapsed": false
   },
   "outputs": [],
   "source": [
    "import tensorflow as tf\n",
    "import numpy as np\n",
    "import matplotlib.pyplot as plt\n",
    "import pandas as pd\n",
    "# import seaborn as sns # caused kernel to die 02.06.16\n",
    "import random\n",
    "from scipy.signal import decimate\n",
    "\n",
    "%matplotlib inline\n",
    "# from IPython import display # For plotting intermediate results"
   ]
  },
  {
   "cell_type": "code",
   "execution_count": 9,
   "metadata": {
    "collapsed": false
   },
   "outputs": [
    {
     "name": "stdout",
     "output_type": "stream",
     "text": [
      "Collecting seaborn\n",
      "  Downloading seaborn-0.7.0.tar.gz (154kB)\n",
      "\u001b[K    100% |████████████████████████████████| 163kB 3.0MB/s \n",
      "\u001b[?25hCollecting scipy (from seaborn)\n",
      "  Downloading scipy-0.17.1-cp34-cp34m-manylinux1_x86_64.whl (39.3MB)\n",
      "\u001b[K    100% |████████████████████████████████| 39.3MB 25kB/s \n",
      "\u001b[?25hBuilding wheels for collected packages: seaborn\n",
      "  Running setup.py bdist_wheel for seaborn ... \u001b[?25l-\b \bdone\n",
      "\u001b[?25h  Stored in directory: /home/mathew/.cache/pip/wheels/e0/94/01/731d82dc437e1c8b65130956028f3fe693943c3e499a676dc9\n",
      "Successfully built seaborn\n",
      "Installing collected packages: scipy, seaborn\n",
      "Successfully installed scipy-0.17.1 seaborn-0.7.0\n"
     ]
    }
   ],
   "source": [
    "# ! pip install pandas\n",
    "! pip install seaborn"
   ]
  },
  {
   "cell_type": "code",
   "execution_count": 3,
   "metadata": {
    "collapsed": true
   },
   "outputs": [],
   "source": [
    "# Import the data"
   ]
  },
  {
   "cell_type": "code",
   "execution_count": 4,
   "metadata": {
    "collapsed": true
   },
   "outputs": [],
   "source": [
    "# Restrict analysis to 500ms post-touch and downsample with decimate"
   ]
  },
  {
   "cell_type": "markdown",
   "metadata": {},
   "source": [
    "## Trying to classify trialtype from theta/kappa/both"
   ]
  },
  {
   "cell_type": "code",
   "execution_count": 6,
   "metadata": {
    "collapsed": true
   },
   "outputs": [],
   "source": [
    "# First generate a training and test dataset, and associated 'one-hot' label arrays\n",
    "\n",
    "# Let's use 20% of the data for testing and 80% for training\n"
   ]
  },
  {
   "cell_type": "code",
   "execution_count": 7,
   "metadata": {
    "collapsed": true
   },
   "outputs": [],
   "source": [
    "# Construct the data flow graph following the TF beginner's MNIST example\n",
    "x = tf.placeholder(tf.float32,[None,100]) # data\n",
    "\n",
    "W = tf.Variable(tf.zeros([100,3])) # W and b are model variables to be fit by the model\n",
    "b = tf.Variable(tf.zeros([3]))     # 3 possible trial types\n",
    "\n",
    "y = tf.nn.softmax(tf.matmul(x,W) + b) # This is the softmax nn model\n",
    "\n",
    "y_ = tf.placeholder(tf.float32,[None,3]) # Placeholder for correct answers (test labels)\n",
    "\n",
    "cross_entropy = tf.reduce_mean(-tf.reduce_sum(y_ * tf.log(y), reduction_indices=[1])) # Cross entropy loss\n",
    "\n",
    "train_step = tf.train.GradientDescentOptimizer(0.5).minimize(cross_entropy) # training step\n"
   ]
  },
  {
   "cell_type": "code",
   "execution_count": null,
   "metadata": {
    "collapsed": true
   },
   "outputs": [],
   "source": [
    "# Set wheels in motion and train the model\n",
    "init = tf.initialize_all_variables()\n",
    "\n",
    "sess = tf.Session() # Start tf session\n",
    "sess.run(init)\n",
    "\n"
   ]
  },
  {
   "cell_type": "code",
   "execution_count": null,
   "metadata": {
    "collapsed": true
   },
   "outputs": [],
   "source": [
    "# Run a training loop\n",
    "for i in range(1000):\n",
    "    batch_xs, batch_ys = mnist.train.next_batch(100)\n",
    "    sess.run(train_step,feed_dict={x: batch_xs, y_: batch_ys})"
   ]
  },
  {
   "cell_type": "code",
   "execution_count": null,
   "metadata": {
    "collapsed": true
   },
   "outputs": [],
   "source": [
    "# Evaluate model performance\n",
    "correct_prediction = tf.equal(tf.argmax(y,1),tf.argmax(y_,1))\n",
    "accuracy = tf.reduce_mean(tf.cast(correct_prediction,tf.float32))\n",
    "print(sess.run(accuracy,feed_dict={x: test_data,y_:test_labels}))"
   ]
  },
  {
   "cell_type": "code",
   "execution_count": 1,
   "metadata": {
    "collapsed": true
   },
   "outputs": [],
   "source": [
    "# Compare the mouse to the model with a confusion matrix"
   ]
  },
  {
   "cell_type": "code",
   "execution_count": null,
   "metadata": {
    "collapsed": true
   },
   "outputs": [],
   "source": []
  },
  {
   "cell_type": "code",
   "execution_count": null,
   "metadata": {
    "collapsed": true
   },
   "outputs": [],
   "source": [
    "# To do: repeat but with combined data from all mice (interesting to see if this helps)"
   ]
  }
 ],
 "metadata": {
  "kernelspec": {
   "display_name": "Python 3",
   "language": "python",
   "name": "python3"
  },
  "language_info": {
   "codemirror_mode": {
    "name": "ipython",
    "version": 3
   },
   "file_extension": ".py",
   "mimetype": "text/x-python",
   "name": "python",
   "nbconvert_exporter": "python",
   "pygments_lexer": "ipython3",
   "version": "3.4.4"
  }
 },
 "nbformat": 4,
 "nbformat_minor": 0
}
