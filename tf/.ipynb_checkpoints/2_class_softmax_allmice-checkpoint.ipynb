{
 "cells": [
  {
   "cell_type": "markdown",
   "metadata": {},
   "source": [
    "## 2 class softmax using Tensorflow\n",
    "### Start simple. Match matlab output. Sets a benchmark"
   ]
  },
  {
   "cell_type": "code",
   "execution_count": 3,
   "metadata": {
    "collapsed": true
   },
   "outputs": [],
   "source": [
    "import tensorflow as tf\n",
    "import numpy as np\n",
    "import matplotlib.pyplot as plt"
   ]
  },
  {
   "cell_type": "code",
   "execution_count": 2,
   "metadata": {
    "collapsed": true
   },
   "outputs": [],
   "source": [
    "%matplotlib inline\n",
    "from IPython import display # For plotting intermediate results"
   ]
  },
  {
   "cell_type": "code",
   "execution_count": 1,
   "metadata": {
    "collapsed": true
   },
   "outputs": [],
   "source": [
    "import pandas as pd\n",
    "import seaborn as sns \n",
    "import random\n",
    "from scipy.signal import resample\n",
    "from scipy.stats import zscore"
   ]
  },
  {
   "cell_type": "code",
   "execution_count": 8,
   "metadata": {
    "collapsed": true
   },
   "outputs": [],
   "source": [
    "from sklearn.metrics import confusion_matrix"
   ]
  },
  {
   "cell_type": "code",
   "execution_count": null,
   "metadata": {
    "collapsed": true
   },
   "outputs": [],
   "source": [
    "# Import the data. TO DO: Turn this into a function\n",
    "theta = pd.read_csv('~/work/whiskfree/data/theta_36.csv',header=None)\n",
    "kappa = pd.read_csv('~/work/whiskfree/data/kappa_36.csv',header=None)\n",
    "tt = pd.read_csv('~/work/whiskfree/data/trialtype_36.csv',header=None)\n",
    "ch = pd.read_csv('~/work/whiskfree/data/choice_36.csv',header=None)"
   ]
  },
  {
   "cell_type": "code",
   "execution_count": 135,
   "metadata": {
    "collapsed": true
   },
   "outputs": [],
   "source": [
    "theta_r = np.array([[resample(theta.values.squeeze()[i,950:1440],50)] for i in range(0,theta.shape[0])])\n",
    "theta_r = zscore(theta_r.squeeze(),axis=None)\n",
    "\n",
    "kappa_r = np.array([[resample(kappa.values.squeeze()[i,950:1440],50)] for i in range(0,kappa.shape[0])])\n",
    "kappa_r = zscore(kappa_r.squeeze(),axis=None)\n",
    "\n",
    "kappa_df = pd.DataFrame(kappa_r)\n",
    "theta_df = pd.DataFrame(theta_r)\n",
    "\n",
    "both_df = pd.concat([theta_df,kappa_df],axis=1)\n",
    "\n",
    "# clean = tt.values !=0\n",
    "clean1 = tt.values == 1\n",
    "clean2 = tt.values == 2\n",
    "tt_c = tt[clean1|clean2].values\n",
    "\n",
    "# tt_c = tt[tt.values !=0|3].values\n",
    "both = both_df.values\n",
    "# both_c = both[clean.squeeze(),:]\n",
    "both_c = both[clean1.squeeze()|clean2.squeeze(),:]\n",
    "labs = np.eye(2)[tt_c-1]\n",
    "# y[np.arange(3), a] = 1\n",
    "labs = labs.squeeze()"
   ]
  },
  {
   "cell_type": "code",
   "execution_count": 136,
   "metadata": {
    "collapsed": false
   },
   "outputs": [
    {
     "name": "stdout",
     "output_type": "stream",
     "text": [
      "Desired training/test set sizes: 909 228\n",
      "training set shape: (909, 100)\n",
      "test set shape: (228, 100)\n",
      "training labels shape: (909, 2)\n",
      "test labels shape: (228, 2)\n"
     ]
    }
   ],
   "source": [
    "# Let's use 20% of the data for testing and 80% for training\n",
    "trainsize = int(len(both_c) * 0.8)\n",
    "testsize = len(both_c) - trainsize\n",
    "print('Desired training/test set sizes:',trainsize, testsize)\n",
    "\n",
    "subset = random.sample(range(len(both_c)),trainsize)\n",
    "traindata = both_c[subset,:]\n",
    "trainlabs = labs[subset,:]\n",
    "testdata = np.delete(both_c,subset,axis=0)\n",
    "testlabs = np.delete(labs,subset,axis=0)\n",
    "\n",
    "print('training set shape:',traindata.shape)\n",
    "print('test set shape:',testdata.shape)\n",
    "print('training labels shape:',trainlabs.shape)\n",
    "print('test labels shape:',testlabs.shape)"
   ]
  },
  {
   "cell_type": "code",
   "execution_count": 161,
   "metadata": {
    "collapsed": true
   },
   "outputs": [],
   "source": [
    "# Construct the data flow graph following the TF beginner's MNIST example\n",
    "x = tf.placeholder(tf.float32,[None,100]) # data\n",
    "\n",
    "W = tf.Variable(tf.zeros([100,2])) # W and b are model variables to be fit by the model\n",
    "b = tf.Variable(tf.zeros([2]))     # 2 possible trial types\n",
    "\n",
    "y = tf.nn.softmax(tf.matmul(x,W) + b) # This is the softmax nn model\n",
    "\n",
    "y_ = tf.placeholder(tf.float32,[None,2]) # Placeholder for correct answers (test labels)\n",
    "\n",
    "cross_entropy = tf.reduce_mean(-tf.reduce_sum(y_ * tf.log(y), reduction_indices=[1])) # Cross entropy loss\n",
    "\n",
    "# train_step = tf.train.GradientDescentOptimizer(0.05).minimize(cross_entropy) # training step\n",
    "train_step = tf.train.AdamOptimizer().minimize(cross_entropy) # training step using Adam optimizer"
   ]
  },
  {
   "cell_type": "code",
   "execution_count": 7,
   "metadata": {
    "collapsed": true
   },
   "outputs": [],
   "source": [
    "# Function to load a random batch of data\n",
    "def next_batch(data,labels,n):\n",
    "    subset = random.sample(range(len(data)),n) \n",
    "    batch_data = data[subset,:]\n",
    "    batch_labels = labels[subset,:]\n",
    "    \n",
    "    return batch_data, batch_labels"
   ]
  },
  {
   "cell_type": "code",
   "execution_count": 162,
   "metadata": {
    "collapsed": true
   },
   "outputs": [],
   "source": [
    "# Set wheels in motion and train the model\n",
    "init = tf.initialize_all_variables()\n",
    "sess = tf.Session() # Start tf session\n",
    "sess.run(init)"
   ]
  },
  {
   "cell_type": "code",
   "execution_count": 160,
   "metadata": {
    "collapsed": true
   },
   "outputs": [],
   "source": [
    "sess.close()"
   ]
  },
  {
   "cell_type": "code",
   "execution_count": 166,
   "metadata": {
    "collapsed": false
   },
   "outputs": [
    {
     "data": {
      "text/plain": [
       "0.59064603"
      ]
     },
     "execution_count": 166,
     "metadata": {},
     "output_type": "execute_result"
    }
   ],
   "source": [
    "sess.run(tf.reduce_mean(-tf.reduce_sum(y_ * tf.log(y), reduction_indices=[1])), feed_dict = {x: batch_xs, y_:batch_ys})"
   ]
  },
  {
   "cell_type": "code",
   "execution_count": 163,
   "metadata": {
    "collapsed": false
   },
   "outputs": [
    {
     "name": "stdout",
     "output_type": "stream",
     "text": [
      "0 error=0.69003826379776\n",
      "1000 error=0.6133257150650024\n",
      "2000 error=0.6327218413352966\n",
      "3000 error=0.6367917060852051\n",
      "4000 error=0.6033593416213989\n",
      "5000 error=0.6125764846801758\n",
      "6000 error=0.6143845915794373\n",
      "7000 error=0.6236227750778198\n",
      "8000 error=0.6521304249763489\n",
      "9000 error=0.6234568357467651\n"
     ]
    }
   ],
   "source": [
    "# Run a training loop\n",
    "for i in range(10000):\n",
    "    batch_xs, batch_ys = next_batch(traindata,trainlabs,250)\n",
    "    sess.run(train_step,feed_dict={x: batch_xs, y_: batch_ys})\n",
    "    if i%1000 == 0:\n",
    "        print ('{0} error={1}'.format(i, sess.run(tf.reduce_mean(-tf.reduce_sum(y_ * tf.log(y), reduction_indices=[1])), feed_dict = {x: batch_xs, y_:batch_ys})))"
   ]
  },
  {
   "cell_type": "code",
   "execution_count": 168,
   "metadata": {
    "collapsed": false
   },
   "outputs": [
    {
     "name": "stdout",
     "output_type": "stream",
     "text": [
      "0 error=0.6919359564781189\n",
      "100 error=0.636430025100708\n",
      "200 error=0.6198690533638\n",
      "300 error=0.6108852624893188\n",
      "400 error=0.6047366857528687\n",
      "500 error=0.6002082228660583\n",
      "600 error=0.5968155860900879\n",
      "700 error=0.5942553877830505\n",
      "800 error=0.5923149585723877\n",
      "900 error=0.5908437967300415\n",
      "1000 error=0.5897318720817566\n",
      "1100 error=0.5888965725898743\n",
      "1200 error=0.5882737636566162\n",
      "1300 error=0.5878133177757263\n",
      "1400 error=0.587476372718811\n",
      "1500 error=0.5872327089309692\n",
      "1600 error=0.5870620608329773\n",
      "1700 error=0.5869414210319519\n",
      "1800 error=0.5868598818778992\n",
      "1900 error=0.586817741394043\n",
      "2000 error=0.5868459343910217\n",
      "2100 error=0.5867947936058044\n",
      "2200 error=0.5868082642555237\n",
      "2300 error=0.5868305563926697\n",
      "2400 error=0.5868675112724304\n",
      "2500 error=0.5869193077087402\n",
      "2600 error=0.586953341960907\n",
      "2700 error=0.5870180130004883\n",
      "2800 error=0.5870528221130371\n",
      "2900 error=0.587100625038147\n",
      "3000 error=0.5871500372886658\n",
      "3100 error=0.5871972441673279\n",
      "3200 error=0.5872493982315063\n",
      "3300 error=0.5872841477394104\n",
      "3400 error=0.5873590111732483\n",
      "3500 error=0.5873586535453796\n",
      "3600 error=0.5874477624893188\n",
      "3700 error=0.5874186754226685\n",
      "3800 error=0.5874415636062622\n",
      "3900 error=0.5874504446983337\n",
      "4000 error=0.5874795317649841\n",
      "4100 error=0.5874782204627991\n",
      "4200 error=0.5875091552734375\n",
      "4300 error=0.5874391198158264\n",
      "4400 error=0.5875284075737\n",
      "4500 error=0.5875383615493774\n",
      "4600 error=0.5875521302223206\n",
      "4700 error=0.5875539779663086\n",
      "4800 error=0.5875375270843506\n",
      "4900 error=0.5875647068023682\n",
      "5000 error=0.5875688791275024\n",
      "5100 error=0.5875802636146545\n",
      "5200 error=0.5875762104988098\n",
      "5300 error=0.5875794291496277\n",
      "5400 error=0.5875831842422485\n",
      "5500 error=0.5875839591026306\n",
      "5600 error=0.5876443982124329\n",
      "5700 error=0.5875875949859619\n",
      "5800 error=0.5876080393791199\n",
      "5900 error=0.5875912308692932\n",
      "6000 error=0.5875924825668335\n",
      "6100 error=0.5875850319862366\n",
      "6200 error=0.5875945687294006\n",
      "6300 error=0.5877466797828674\n",
      "6400 error=0.5875966548919678\n",
      "6500 error=0.5875658988952637\n",
      "6600 error=0.5875959992408752\n",
      "6700 error=0.587327778339386\n",
      "6800 error=0.5875996351242065\n",
      "6900 error=0.5875901579856873\n",
      "7000 error=0.587604284286499\n",
      "7100 error=0.5876250267028809\n",
      "7200 error=0.5876038074493408\n",
      "7300 error=0.5875654220581055\n",
      "7400 error=0.587597131729126\n",
      "7500 error=0.5876024961471558\n",
      "7600 error=0.5876085758209229\n",
      "7700 error=0.5876012444496155\n",
      "7800 error=0.5878174304962158\n",
      "7900 error=0.587600588798523\n",
      "8000 error=0.5876023173332214\n",
      "8100 error=0.5875912308692932\n",
      "8200 error=0.5876021385192871\n",
      "8300 error=0.587533712387085\n",
      "8400 error=0.5876018404960632\n",
      "8500 error=0.5876017808914185\n",
      "8600 error=0.5875920653343201\n",
      "8700 error=0.5876026153564453\n",
      "8800 error=0.5877065062522888\n",
      "8900 error=0.587601363658905\n",
      "9000 error=0.5876084566116333\n",
      "9100 error=0.5876052379608154\n",
      "9200 error=0.5876025557518005\n",
      "9300 error=0.5875932574272156\n",
      "9400 error=0.5876026153564453\n",
      "9500 error=0.5877505540847778\n",
      "9600 error=0.5876017212867737\n",
      "9700 error=0.5876555442810059\n",
      "9800 error=0.5875996351242065\n",
      "9900 error=0.5875874757766724\n"
     ]
    }
   ],
   "source": [
    "sess.close()\n",
    "init = tf.initialize_all_variables()\n",
    "sess = tf.Session() # Start tf session\n",
    "sess.run(init)\n",
    "# Try using more data on each time step (all data?)\n",
    "for i in range(1000):\n",
    "    sess.run(train_step,feed_dict={x:traindata,y_:trainlabs})\n",
    "    if i%100 ==0:\n",
    "        print ('{0} error={1}'.format(i, sess.run(tf.reduce_mean(-tf.reduce_sum(y_ * tf.log(y), reduction_indices=[1])), feed_dict = {x: batch_xs, y_:batch_ys})))\n",
    "        \n",
    "        "
   ]
  },
  {
   "cell_type": "code",
   "execution_count": 169,
   "metadata": {
    "collapsed": false
   },
   "outputs": [
    {
     "name": "stdout",
     "output_type": "stream",
     "text": [
      "0.504386\n"
     ]
    }
   ],
   "source": [
    "# Evaluate model performance\n",
    "correct_prediction = tf.equal(tf.argmax(y,1),tf.argmax(y_,1))\n",
    "accuracy = tf.reduce_mean(tf.cast(correct_prediction,tf.float32))\n",
    "print(sess.run(accuracy,feed_dict={x: testdata,y_:testlabs}))"
   ]
  },
  {
   "cell_type": "code",
   "execution_count": 155,
   "metadata": {
    "collapsed": false
   },
   "outputs": [
    {
     "data": {
      "text/plain": [
       "LogisticRegression(C=1.0, class_weight=None, dual=False, fit_intercept=True,\n",
       "          intercept_scaling=1, max_iter=100, multi_class='ovr', n_jobs=1,\n",
       "          penalty='l2', random_state=None, solver='liblinear', tol=0.0001,\n",
       "          verbose=0, warm_start=False)"
      ]
     },
     "execution_count": 155,
     "metadata": {},
     "output_type": "execute_result"
    }
   ],
   "source": [
    "# compare with sklearn\n",
    "from sklearn.linear_model import LogisticRegression\n",
    "from sklearn.metrics import accuracy_score"
   ]
  },
  {
   "cell_type": "code",
   "execution_count": 156,
   "metadata": {
    "collapsed": false
   },
   "outputs": [
    {
     "data": {
      "text/plain": [
       "0.51754385964912286"
      ]
     },
     "execution_count": 156,
     "metadata": {},
     "output_type": "execute_result"
    }
   ],
   "source": [
    "lr = LogisticRegression()\n",
    "lr.fit(traindata,trainlabs[:,1])\n",
    "\n",
    "accuracy_score(testlabs[:,1],lr.predict(testdata))"
   ]
  },
  {
   "cell_type": "code",
   "execution_count": 170,
   "metadata": {
    "collapsed": false
   },
   "outputs": [
    {
     "name": "stdout",
     "output_type": "stream",
     "text": [
      "Confusion matrix (mouse):\n",
      " [[473 140]\n",
      " [104 420]]\n",
      "Confusion matrix (model):\n",
      " [[424 189]\n",
      " [252 272]]\n",
      "Mouse overall accuracy =  0.785400175901\n",
      "Model overall accuracy =  0.612137203166\n"
     ]
    },
    {
     "data": {
      "image/png": "[encoded data removed]",
      "text/plain": [
       "<matplotlib.figure.Figure at 0x7f8ab8c81358>"
      ]
     },
     "metadata": {},
     "output_type": "display_data"
    }
   ],
   "source": [
    "# Confusion matrix for model\n",
    "all_preds = sess.run(y,feed_dict={x:both_c})\n",
    "cm_tf = confusion_matrix(np.argmax(labs,1),np.argmax(all_preds,1))\n",
    "\n",
    "# Confusion matrix for the mouse\n",
    "clean1 = tt.values == 1\n",
    "clean2 = tt.values == 2\n",
    "mouse_choice = ch[clean1|clean2].values\n",
    "# Set all non-choice-1 as choice 2\n",
    "mouse_choice_b = mouse_choice\n",
    "mouse_choice_b[mouse_choice_b !=1]  =2\n",
    "\n",
    "cm_m = confusion_matrix(tt_c,mouse_choice_b)\n",
    "\n",
    "print('Confusion matrix (mouse):\\n',cm_m)\n",
    "print('Confusion matrix (model):\\n',cm_tf)\n",
    "print('Mouse overall accuracy = ',accuracy_score(tt_c,mouse_choice_b))\n",
    "print('Model overall accuracy = ',accuracy_score(np.argmax(labs,1),np.argmax(all_preds,1)))\n",
    "\n",
    "with sns.axes_style(\"white\"):\n",
    "    fig,ax = plt.subplots(1,2)\n",
    "    ax[0].imshow(cm_m,interpolation='none',cmap='coolwarm')\n",
    "    ax[1].imshow(cm_tf,interpolation='none',cmap='coolwarm')"
   ]
  },
  {
   "cell_type": "code",
   "execution_count": 158,
   "metadata": {
    "collapsed": false
   },
   "outputs": [
    {
     "data": {
      "text/plain": [
       "(array([ 613.,    0.,    0.,    0.,    0.,    0.,    0.,    0.,    0.,  524.]),\n",
       " array([ 0. ,  0.1,  0.2,  0.3,  0.4,  0.5,  0.6,  0.7,  0.8,  0.9,  1. ]),\n",
       " <a list of 10 Patch objects>)"
      ]
     },
     "execution_count": 158,
     "metadata": {},
     "output_type": "execute_result"
    },
    {
     "data": {
      "image/png": "[encoded data removed]",
      "text/plain": [
       "<matplotlib.figure.Figure at 0x7f8ab8b61198>"
      ]
     },
     "metadata": {},
     "output_type": "display_data"
    }
   ],
   "source": [
    "fig,ax = plt.subplots(1,2)\n",
    "ax[0].hist(np.argmax(all_preds,1))\n",
    "ax[1].hist(np.argmax(labs,1))"
   ]
  },
  {
   "cell_type": "code",
   "execution_count": 159,
   "metadata": {
    "collapsed": false
   },
   "outputs": [
    {
     "data": {
      "text/plain": [
       "0.51315789473684215"
      ]
     },
     "execution_count": 159,
     "metadata": {},
     "output_type": "execute_result"
    },
    {
     "data": {
      "image/png": "[encoded data removed]",
      "text/plain": [
       "<matplotlib.figure.Figure at 0x7f8a6876d2b0>"
      ]
     },
     "metadata": {},
     "output_type": "display_data"
    }
   ],
   "source": [
    "preds = sess.run(y,feed_dict={x:testdata})\n",
    "with sns.axes_style(\"white\"):\n",
    "    fig, ax = plt.subplots(2,1,figsize=[20,1])\n",
    "ax[0].imshow(preds.T,interpolation='none',aspect = 3)\n",
    "ax[1].imshow(testlabs.T,interpolation='none',aspect = 3)\n",
    "accuracy_score(np.argmax(testlabs,1),np.argmax(preds,1))"
   ]
  },
  {
   "cell_type": "code",
   "execution_count": 131,
   "metadata": {
    "collapsed": false
   },
   "outputs": [
    {
     "data": {
      "text/plain": [
       "[<matplotlib.lines.Line2D at 0x7f8a742bf978>]"
      ]
     },
     "execution_count": 131,
     "metadata": {},
     "output_type": "execute_result"
    },
    {
     "data": {
      "image/png": "[encoded data removed]",
      "text/plain": [
       "<matplotlib.figure.Figure at 0x7f8a74402d30>"
      ]
     },
     "metadata": {},
     "output_type": "display_data"
    }
   ],
   "source": [
    "clean1 = tt.values == 1\n",
    "clean2 = tt.values == 2\n",
    "# tt_c = tt[tt.values !=0|3].values\n",
    "tt_c = tt[clean1|clean2].values\n",
    "# plt.plot(tt[clean|clean2])\n",
    "plt.plot(tt_c)"
   ]
  },
  {
   "cell_type": "code",
   "execution_count": 132,
   "metadata": {
    "collapsed": false
   },
   "outputs": [],
   "source": [
    "both = both_df.values\n",
    "# both_c = both[clean.squeeze(),:]\n",
    "both_c = both[clean1.squeeze()|clean2.squeeze(),:]"
   ]
  },
  {
   "cell_type": "code",
   "execution_count": 133,
   "metadata": {
    "collapsed": false
   },
   "outputs": [
    {
     "data": {
      "text/plain": [
       "(1790, 100)"
      ]
     },
     "execution_count": 133,
     "metadata": {},
     "output_type": "execute_result"
    }
   ],
   "source": [
    "both.shape"
   ]
  },
  {
   "cell_type": "code",
   "execution_count": 134,
   "metadata": {
    "collapsed": false
   },
   "outputs": [
    {
     "data": {
      "text/plain": [
       "(1137, 100)"
      ]
     },
     "execution_count": 134,
     "metadata": {},
     "output_type": "execute_result"
    }
   ],
   "source": [
    "both_c.shape"
   ]
  },
  {
   "cell_type": "code",
   "execution_count": null,
   "metadata": {
    "collapsed": true
   },
   "outputs": [],
   "source": []
  }
 ],
 "metadata": {
  "kernelspec": {
   "display_name": "Python 3",
   "language": "python",
   "name": "python3"
  },
  "language_info": {
   "codemirror_mode": {
    "name": "ipython",
    "version": 3
   },
   "file_extension": ".py",
   "mimetype": "text/x-python",
   "name": "python",
   "nbconvert_exporter": "python",
   "pygments_lexer": "ipython3",
   "version": "3.4.4"
  }
 },
 "nbformat": 4,
 "nbformat_minor": 0
}
